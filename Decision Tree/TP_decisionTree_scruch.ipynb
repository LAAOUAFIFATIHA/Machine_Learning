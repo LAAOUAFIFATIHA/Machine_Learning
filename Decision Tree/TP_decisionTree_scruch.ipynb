{
 "cells": [
  {
   "cell_type": "code",
   "execution_count": 115,
   "id": "d70ccca8",
   "metadata": {},
   "outputs": [
    {
     "name": "stdout",
     "output_type": "stream",
     "text": [
      "debut\n"
     ]
    }
   ],
   "source": [
    "print(\"debut\")"
   ]
  },
  {
   "cell_type": "markdown",
   "id": "d9640955",
   "metadata": {},
   "source": [
    "## Exercice : Construction d'un arbre de décision\n",
    "Vous travaillez sur un problème de classification pour prédire si un client achètera un produit\n",
    "ou non en fonction de deux attributs : l'âge et le revenu. Vous avez le tableau de données\n",
    "suivant :"
   ]
  },
  {
   "cell_type": "markdown",
   "id": "14fa6093",
   "metadata": {},
   "source": [
    "\n",
    "\\begin{array}{|c|c|c|c|}\n",
    "\\hline\n",
    "\\textbf{ID} & \\textbf{Âge} & \\textbf{Revenu} & \\textbf{Achat (Oui/Non)} \\\\\n",
    "\\hline\n",
    "1 & Jeune  & Élevé  & Non  \\\\\n",
    "2 & Jeune  & Faible & Oui  \\\\\n",
    "3 & Jeune  & Moyen  & Oui  \\\\\n",
    "4 & Moyen  & Élevé  & Oui  \\\\\n",
    "5 & Moyen  & Faible & Non  \\\\\n",
    "6 & Moyen  & Moyen  & Oui  \\\\\n",
    "7 & Âgé    & Élevé  & Oui  \\\\\n",
    "8 & Âgé    & Moyen  & Oui  \\\\\n",
    "9 & Âgé    & Faible & Non  \\\\\n",
    "\\hline\n",
    "\\end{array}\n",
    "\n"
   ]
  },
  {
   "cell_type": "code",
   "execution_count": 76,
   "id": "df9d4328",
   "metadata": {},
   "outputs": [],
   "source": [
    "import numpy as np"
   ]
  },
  {
   "cell_type": "code",
   "execution_count": 100,
   "id": "24bdfc12",
   "metadata": {},
   "outputs": [],
   "source": [
    "S = np.array([\n",
    "    [0, 2, 0],\n",
    "    [0, 0, 1],\n",
    "    [0, 1, 1],\n",
    "    [1, 2, 1],\n",
    "    [1, 0, 0],\n",
    "    [1, 1, 1],\n",
    "    [2, 2, 1],\n",
    "    [2, 1, 1],\n",
    "    [2, 0, 0]\n",
    "])\n"
   ]
  },
  {
   "cell_type": "markdown",
   "id": "77353d33",
   "metadata": {},
   "source": [
    "### 1. Calcul de l'entropie totale :\n",
    "Calculez l'entropie du jeu de données initial (avant toute séparation).\n"
   ]
  },
  {
   "cell_type": "code",
   "execution_count": 88,
   "id": "18aa3259",
   "metadata": {},
   "outputs": [],
   "source": [
    "def entropy(S):\n",
    "    S = np.array(S)\n",
    "    n=S.shape[0]\n",
    "    E=0\n",
    "    # edentify the classes that we have \n",
    "    cls=np.unique(S[:,-1])\n",
    "    for c in cls:\n",
    "        # calculate the probability of each class \n",
    "        p=S[S[:,-1]==c].shape[0]/n\n",
    "        E=E-p*np.log2(p) \n",
    "    return E "
   ]
  },
  {
   "cell_type": "code",
   "execution_count": 89,
   "id": "2f8f35d1",
   "metadata": {},
   "outputs": [
    {
     "data": {
      "text/plain": [
       "0.9182958340544896"
      ]
     },
     "execution_count": 89,
     "metadata": {},
     "output_type": "execute_result"
    }
   ],
   "source": [
    "s_entropy = entropy(S)\n",
    "s_entropy"
   ]
  },
  {
   "cell_type": "code",
   "execution_count": 90,
   "id": "c08faeab",
   "metadata": {},
   "outputs": [
    {
     "data": {
      "text/plain": [
       "array([2, 0, 1, 2, 0, 1, 2, 1, 0])"
      ]
     },
     "execution_count": 90,
     "metadata": {},
     "output_type": "execute_result"
    }
   ],
   "source": [
    "S[:,1]"
   ]
  },
  {
   "cell_type": "markdown",
   "id": "4a7cde4a",
   "metadata": {},
   "source": [
    "## 2. Choix de la meilleure variable avec l'entropie :\n",
    "○ Calculez l'entropie après une séparation sur l’attribut Âge et l’attribut Revenu"
   ]
  },
  {
   "cell_type": "markdown",
   "id": "7074cd21",
   "metadata": {},
   "source": [
    "#### Âge"
   ]
  },
  {
   "cell_type": "code",
   "execution_count": 91,
   "id": "5c5affbe",
   "metadata": {},
   "outputs": [
    {
     "name": "stdout",
     "output_type": "stream",
     "text": [
      "entropie by the age :  0.9182958340544896\n"
     ]
    },
    {
     "data": {
      "text/plain": [
       "[0.9182958340544896, 0.9182958340544896, 0.9182958340544896]"
      ]
     },
     "execution_count": 91,
     "metadata": {},
     "output_type": "execute_result"
    }
   ],
   "source": [
    "mdlt = np.unique(S[:,0]) \n",
    "som_age = 0\n",
    "listy = []\n",
    "for m in mdlt:\n",
    "    s = S[S[:,0] == m]\n",
    "    p = S[S[:,0] == m].shape[0]/S.shape[0]\n",
    "    listy.append(entropy(s))\n",
    "    som_age += p * entropy(s)\n",
    "print(\"entropie by the age : \",som_age)\n",
    "listy"
   ]
  },
  {
   "cell_type": "markdown",
   "id": "108ceccf",
   "metadata": {},
   "source": [
    "#### Renenu"
   ]
  },
  {
   "cell_type": "code",
   "execution_count": 92,
   "id": "76d659b9",
   "metadata": {},
   "outputs": [
    {
     "name": "stdout",
     "output_type": "stream",
     "text": [
      "entropie by the revenu:  1.8365916681089791\n"
     ]
    },
    {
     "data": {
      "text/plain": [
       "[0.9182958340544896, 0.0, 0.9182958340544896]"
      ]
     },
     "execution_count": 92,
     "metadata": {},
     "output_type": "execute_result"
    }
   ],
   "source": [
    "mdlt = np.unique(S[:,1]) \n",
    "som_revenu = 0\n",
    "listy = []\n",
    "for m in mdlt:\n",
    "    s = S[S[:,1] == m]\n",
    "    p = S[S[:,1] == m].shape[0]/S.shape[0]\n",
    "    listy.append(entropy(s))\n",
    "    som_revenu += p * entropy(s)\n",
    "print(\"entropie by the revenu: \",som)\n",
    "listy"
   ]
  },
  {
   "cell_type": "markdown",
   "id": "ee5f2b58",
   "metadata": {},
   "source": [
    "○ Calculez le gain d'information pour chaque attribut et déterminez lequel est\n",
    "le meilleur séparateur"
   ]
  },
  {
   "cell_type": "code",
   "execution_count": 93,
   "id": "9f8ac376",
   "metadata": {},
   "outputs": [
    {
     "name": "stdout",
     "output_type": "stream",
     "text": [
      "le gain de age 0.0\n",
      "le gain de revenu 0.3060986113514965\n"
     ]
    }
   ],
   "source": [
    "print(\"le gain de age\", s_entropy - som_age )\n",
    "print(\"le gain de revenu\", s_entropy - som_revenu )"
   ]
  },
  {
   "cell_type": "markdown",
   "id": "68ff046d",
   "metadata": {},
   "source": [
    "## 3. Calcul de l'indice de Gini :\n",
    "Calculez l'indice de Gini initial."
   ]
  },
  {
   "cell_type": "code",
   "execution_count": 101,
   "id": "4e89fc98",
   "metadata": {},
   "outputs": [],
   "source": [
    "def Gini(S):\n",
    "    m = S.shape[0]\n",
    "    G = 1\n",
    "    cls = np.unique(S[:,-1])\n",
    "    for c in cls:\n",
    "        p = S[S[:,-1] == c].shape[0]/m\n",
    "        G -= p**2\n",
    "    return G\n",
    "    "
   ]
  },
  {
   "cell_type": "code",
   "execution_count": 102,
   "id": "ab9dd16b",
   "metadata": {},
   "outputs": [
    {
     "data": {
      "text/plain": [
       "0.4444444444444444"
      ]
     },
     "execution_count": 102,
     "metadata": {},
     "output_type": "execute_result"
    }
   ],
   "source": [
    "Gini(S)"
   ]
  },
  {
   "cell_type": "markdown",
   "id": "a44b673e",
   "metadata": {},
   "source": [
    "Calculez l'indice de Gini après séparation sur Âge et Revenu."
   ]
  },
  {
   "cell_type": "code",
   "execution_count": 105,
   "id": "4023c9be",
   "metadata": {},
   "outputs": [],
   "source": [
    "def Gini_indice(S):\n",
    "    m = S.shape[0]\n",
    "    n = S.shape[1]\n",
    "    listy = []\n",
    "    for i in range(n-1):\n",
    "        mdls = np.unique(S[:,i])\n",
    "        G_A_S = 0\n",
    "        for mdl in mdls:\n",
    "            S_new = S[S[:,i]==mdl]\n",
    "            G_A_S += (S_new.shape[0] /m) * Gini(S_new)\n",
    "        listy.append((i,G_A_S))\n",
    "    return listy"
   ]
  },
  {
   "cell_type": "code",
   "execution_count": 110,
   "id": "dec73375",
   "metadata": {},
   "outputs": [
    {
     "data": {
      "text/plain": [
       "[(0, 0.4444444444444444), (1, 0.2962962962962963)]"
      ]
     },
     "execution_count": 110,
     "metadata": {},
     "output_type": "execute_result"
    }
   ],
   "source": [
    "l = Gini_indice(S)\n",
    "l"
   ]
  },
  {
   "cell_type": "code",
   "execution_count": 113,
   "id": "49a5df65",
   "metadata": {},
   "outputs": [
    {
     "data": {
      "text/plain": [
       "0.14814814814814814"
      ]
     },
     "execution_count": 113,
     "metadata": {},
     "output_type": "execute_result"
    }
   ],
   "source": [
    "gain_gini = Gini(S) - l[1][1]\n",
    "gain_gini"
   ]
  },
  {
   "cell_type": "markdown",
   "id": "168d5243",
   "metadata": {},
   "source": [
    "#### ○ Déterminez lequel des deux critères (entropie ou Gini) donne la meilleureséparation.\n"
   ]
  },
  {
   "cell_type": "markdown",
   "id": "5fb95efc",
   "metadata": {},
   "source": [
    "on compare le gain de l'entropie avec celle de gini,\n",
    "on remarque que pour les deux methode le revenu est le meilleur attribue de separation \n",
    "- le gain d'entropie par le revenu ---->  0.30\n",
    "- le gain de gini par le revenu ---->  0.14\n",
    "+\n",
    "donc le meilleure critere de separation est l'entropie car elle a le plus grand gain"
   ]
  },
  {
   "cell_type": "markdown",
   "id": "83927b74",
   "metadata": {},
   "source": [
    "## 4. Interprétation et conclusion :\n"
   ]
  },
  {
   "cell_type": "markdown",
   "id": "8b7ae09c",
   "metadata": {},
   "source": [
    "○ Comparez les résultats obtenus avec l'entropie et l'indice de Gini."
   ]
  },
  {
   "cell_type": "markdown",
   "id": "e8277fb1",
   "metadata": {},
   "source": [
    "~~~ d'entropie\n",
    "+ le gain d'entropie par  age 0.0\n",
    "+ le gain d'entropie par revenu 0.30\n",
    "~~~ Gini\n",
    "+ le gain de Gini par  age 0.0\n",
    "+ le gain de Gini par revenu 0.14\n",
    "~~~ conclusion\n",
    "+ donc : le meilleure attribue pour les deux methode c'est le revenue "
   ]
  },
  {
   "cell_type": "markdown",
   "id": "9c1f7513",
   "metadata": {},
   "source": [
    "○ Quel attribut choisiriez-vous en premier pour construire l’arbre de décision ?"
   ]
  },
  {
   "cell_type": "markdown",
   "id": "40370fb2",
   "metadata": {},
   "source": [
    "je veut choisur le revenue bien sur!"
   ]
  },
  {
   "cell_type": "code",
   "execution_count": 114,
   "id": "284168ee",
   "metadata": {},
   "outputs": [
    {
     "name": "stdout",
     "output_type": "stream",
     "text": [
      "fin\n"
     ]
    }
   ],
   "source": [
    "print(\"fin\")"
   ]
  }
 ],
 "metadata": {
  "kernelspec": {
   "display_name": "Python 3 (ipykernel)",
   "language": "python",
   "name": "python3"
  },
  "language_info": {
   "codemirror_mode": {
    "name": "ipython",
    "version": 3
   },
   "file_extension": ".py",
   "mimetype": "text/x-python",
   "name": "python",
   "nbconvert_exporter": "python",
   "pygments_lexer": "ipython3",
   "version": "3.11.5"
  }
 },
 "nbformat": 4,
 "nbformat_minor": 5
}
