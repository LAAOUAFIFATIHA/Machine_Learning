{
 "cells": [
  {
   "cell_type": "markdown",
   "id": "2c6770c3-2481-45b0-ae37-522f02f850e1",
   "metadata": {},
   "source": [
    "1- Importion des modules"
   ]
  },
  {
   "cell_type": "code",
   "execution_count": 209,
   "id": "8c83289d-a8ff-44ce-b6e7-06b997af5d25",
   "metadata": {},
   "outputs": [],
   "source": [
    "import numpy as np \n",
    "from sklearn.datasets import load_iris"
   ]
  },
  {
   "cell_type": "markdown",
   "id": "0d229524-2460-4062-8211-1c1bcca63a88",
   "metadata": {},
   "source": [
    "2- Utiliser **sklearn.datasets.load_iris** pour generer un jeux de donnée valide pour la structure du réseau ci-dessus"
   ]
  },
  {
   "cell_type": "code",
   "execution_count": 210,
   "id": "399f225a-88a0-41e7-aa94-441f026342bd",
   "metadata": {},
   "outputs": [],
   "source": [
    "data = load_iris()\n",
    "x = data[\"data\"]\n",
    "y = data[\"target\"]\n",
    "# x"
   ]
  },
  {
   "cell_type": "markdown",
   "id": "b69a028c-6650-415b-894f-c03ab309ce8b",
   "metadata": {},
   "source": [
    "### I. Implementation directe de l'algorithme"
   ]
  },
  {
   "cell_type": "markdown",
   "id": "7728aa71-c4da-400f-9e26-6e5f14c3493c",
   "metadata": {},
   "source": [
    "3- Créer une liste des poid adaptèe au réseau"
   ]
  },
  {
   "cell_type": "code",
   "execution_count": 211,
   "id": "127d6d1e-326e-42c4-a9f7-1577ebf42ccb",
   "metadata": {},
   "outputs": [],
   "source": [
    "w  = [ np.random.rand(6,4) , np.random.rand(6,6) ,  np.random.rand(3,6) ]\n",
    "b = [np.random.rand(1,6), np.random.rand(1,6) , np.random.rand(1,3) ]"
   ]
  },
  {
   "cell_type": "markdown",
   "id": "2feae926-8bbb-426c-b199-a701657ea54d",
   "metadata": {},
   "source": [
    "4- Créer un fonction *forward()* qui Calculer les activation $a^{(l)}_{k}$"
   ]
  },
  {
   "cell_type": "code",
   "execution_count": 212,
   "id": "ffc6b138-d6b5-4eba-99c7-11572754da7b",
   "metadata": {},
   "outputs": [
    {
     "data": {
      "text/plain": [
       "[array([[0.75, 0.25, 0.22, 0.23],\n",
       "        [0.1 , 0.62, 0.64, 0.81],\n",
       "        [0.04, 0.43, 0.58, 0.74],\n",
       "        [0.26, 0.99, 0.74, 0.46],\n",
       "        [0.3 , 0.08, 0.4 , 0.1 ],\n",
       "        [0.14, 0.48, 0.95, 0.74]]),\n",
       " array([[0.74, 0.34, 0.48, 0.75, 0.18, 0.06],\n",
       "        [0.68, 0.03, 0.03, 0.71, 0.79, 0.47],\n",
       "        [0.72, 0.13, 0.65, 0.14, 0.58, 0.02],\n",
       "        [0.5 , 0.01, 0.87, 0.01, 0.25, 0.96],\n",
       "        [0.9 , 0.17, 0.56, 0.32, 0.71, 0.37],\n",
       "        [0.64, 0.06, 0.44, 0.14, 0.32, 0.92]]),\n",
       " array([[0.25, 0.33, 0.04, 0.35, 0.79, 0.52],\n",
       "        [0.39, 0.91, 0.8 , 0.07, 0.14, 0.79],\n",
       "        [0.07, 0.84, 0.11, 0.35, 0.55, 0.72]])]"
      ]
     },
     "execution_count": 212,
     "metadata": {},
     "output_type": "execute_result"
    }
   ],
   "source": [
    "w"
   ]
  },
  {
   "cell_type": "code",
   "execution_count": 213,
   "id": "86304ec2-268a-491a-ac7f-4abe6259d4e8",
   "metadata": {},
   "outputs": [],
   "source": [
    "def seg(x):\n",
    "    res =1/(1+np.exp(-x))\n",
    "    if res <0.5:\n",
    "        return 0\n",
    "    else:\n",
    "        return 1\n",
    "\n",
    "def forward1( x , w , b, act):\n",
    "    # print(x.shape)\n",
    "    return  b.T + w.dot(x.T) \n",
    "    \n",
    "\n",
    "def forword2( x , w ,b , act):\n",
    "    a = []\n",
    "    i = 0\n",
    "    for iw in  w:\n",
    "        x = forward1( x , iw , b[i], act).T\n",
    "        i = i+1\n",
    "        a.append(x)\n",
    "    return a\n",
    "\n",
    "a = forword2(x ,w ,b,seg)\n",
    "# print(a)\n"
   ]
  },
  {
   "cell_type": "markdown",
   "id": "93e4697a-cd32-4fdf-87b6-c3c505ab779f",
   "metadata": {},
   "source": [
    "5- Créer un fonction *backward()* qui Calculer les  $\\delta^{(l)}_{k}$"
   ]
  },
  {
   "cell_type": "code",
   "execution_count": 214,
   "id": "aa9407fc-a8bd-4d59-b0d5-18432821f486",
   "metadata": {},
   "outputs": [],
   "source": [
    "def delta(a , y):\n",
    "    d_L =  (a[2].T-y).T*(a[2]*(1-a[2]))\n",
    "    # print((w[2].T).dot(d_L.T).shape , (a[1]*(1-a[1])).shape)\n",
    "    # print((w[2].shape))\n",
    "  \n",
    "    d_l_1 =   (w[2].T).dot(d_L.T).T * (a[1]*(1-a[1]))\n",
    "    # print((w[1].shape))\n",
    "    d_l_2 =   (w[1].T).dot(d_l_1.T).T * (a[0]*(1-a[0]))\n",
    "    \n",
    "    omiga = [ np.array(d_l_2) , np.array(d_l_1) , np.array(d_L)  ]\n",
    "    return omiga\n",
    "#     print( d_l_1)\n",
    "segma = delta(a ,y)   "
   ]
  },
  {
   "cell_type": "markdown",
   "id": "eea7f8f3-347a-42cb-86f7-6ae75fa674bf",
   "metadata": {},
   "source": [
    "6- Créer la fonction *fit(X,Y)* pour trouver les valeur optimales des poids"
   ]
  },
  {
   "cell_type": "code",
   "execution_count": 215,
   "id": "337265d0-82a0-4c3c-8b61-14b3e609a844",
   "metadata": {},
   "outputs": [
    {
     "name": "stdout",
     "output_type": "stream",
     "text": [
      "(150, 6)\n"
     ]
    },
    {
     "data": {
      "text/plain": [
       "(150, 6)"
      ]
     },
     "execution_count": 215,
     "metadata": {},
     "output_type": "execute_result"
    }
   ],
   "source": [
    "print(segma[1].shape)\n",
    "a[0].shape"
   ]
  },
  {
   "cell_type": "code",
   "execution_count": 216,
   "id": "3dedfd65-a333-4e0c-a85a-26cbeb09ccd4",
   "metadata": {},
   "outputs": [],
   "source": [
    "def fit1( a , segma ):\n",
    "    C = []\n",
    "    for i in range(2,0,-1):\n",
    "        # print(\"segma shape :\",segma[i].T.shape)\n",
    "        C.append((1/segma[i].shape[0])*segma[i].T.dot(a[i-1])) \n",
    "    C.append( segma[0].T.dot( x ))\n",
    "    return C"
   ]
  },
  {
   "cell_type": "code",
   "execution_count": 217,
   "id": "71fe2b6e-b5da-42d9-bc08-e0eddb2b2cd3",
   "metadata": {},
   "outputs": [],
   "source": [
    "def fit(x, y, w ,b , act , iteration):\n",
    "    for _ in range(iteration):\n",
    "        a = forword2(x ,w ,b,act)\n",
    "        segma = delta(a ,y)\n",
    "        C = fit1( a, segma )\n",
    "        C = [C[2] , C[1] , C[0] ]\n",
    "        print(w)\n",
    "        \n",
    "        ### SHOW THE ERREUR \n",
    "        print('-------------------------min----------------------------')\n",
    "        print(segma[0].min())\n",
    "        print('-------------------------max----------------------------')\n",
    "        print(segma[0].max())\n",
    "        for i in range(len(w)):\n",
    "            w[i] = C[i] \n",
    "    return w"
   ]
  },
  {
   "cell_type": "code",
   "execution_count": 218,
   "id": "a5f60ebc-3bab-4b21-9ded-63efffb4088e",
   "metadata": {},
   "outputs": [
    {
     "name": "stdout",
     "output_type": "stream",
     "text": [
      "[array([[0.75, 0.25, 0.22, 0.23],\n",
      "       [0.1 , 0.62, 0.64, 0.81],\n",
      "       [0.04, 0.43, 0.58, 0.74],\n",
      "       [0.26, 0.99, 0.74, 0.46],\n",
      "       [0.3 , 0.08, 0.4 , 0.1 ],\n",
      "       [0.14, 0.48, 0.95, 0.74]]), array([[0.74, 0.34, 0.48, 0.75, 0.18, 0.06],\n",
      "       [0.68, 0.03, 0.03, 0.71, 0.79, 0.47],\n",
      "       [0.72, 0.13, 0.65, 0.14, 0.58, 0.02],\n",
      "       [0.5 , 0.01, 0.87, 0.01, 0.25, 0.96],\n",
      "       [0.9 , 0.17, 0.56, 0.32, 0.71, 0.37],\n",
      "       [0.64, 0.06, 0.44, 0.14, 0.32, 0.92]]), array([[0.25, 0.33, 0.04, 0.35, 0.79, 0.52],\n",
      "       [0.39, 0.91, 0.8 , 0.07, 0.14, 0.79],\n",
      "       [0.07, 0.84, 0.11, 0.35, 0.55, 0.72]])]\n",
      "-------------------------min----------------------------\n",
      "-94837712092.97768\n",
      "-------------------------max----------------------------\n",
      "-24074024.026435856\n",
      "[array([[-1.44e+13, -6.58e+12, -1.17e+13, -4.07e+12],\n",
      "       [-2.22e+12, -1.01e+12, -1.82e+12, -6.41e+11],\n",
      "       [-5.92e+12, -2.70e+12, -4.85e+12, -1.71e+12],\n",
      "       [-1.25e+13, -5.73e+12, -1.02e+13, -3.58e+12],\n",
      "       [-5.07e+12, -2.30e+12, -4.12e+12, -1.44e+12],\n",
      "       [-1.43e+13, -6.49e+12, -1.17e+13, -4.14e+12]]), array([[2.65e+08, 2.71e+08, 2.27e+08, 3.26e+08, 1.84e+08, 3.00e+08],\n",
      "       [8.88e+08, 9.10e+08, 7.61e+08, 1.09e+09, 6.18e+08, 1.01e+09],\n",
      "       [2.65e+08, 2.71e+08, 2.27e+08, 3.26e+08, 1.84e+08, 3.00e+08],\n",
      "       [2.43e+08, 2.50e+08, 2.09e+08, 2.99e+08, 1.69e+08, 2.77e+08],\n",
      "       [5.76e+08, 5.90e+08, 4.93e+08, 7.08e+08, 4.00e+08, 6.53e+08],\n",
      "       [6.87e+08, 7.05e+08, 5.90e+08, 8.45e+08, 4.78e+08, 7.82e+08]]), array([[-1549420.04, -1639829.19, -1242902.91, -1556774.96, -1757263.37,\n",
      "        -1489476.78],\n",
      "       [-3074398.06, -3253925.48, -2466436.64, -3087836.34, -3486820.22,\n",
      "        -2954508.68],\n",
      "       [-2323499.17, -2459097.61, -1863860.38, -2334564.94, -2635202.61,\n",
      "        -2233645.31]])]\n",
      "-------------------------min----------------------------\n",
      "7.103424831579563e+180\n",
      "-------------------------max----------------------------\n",
      "1.3124421227851343e+185\n",
      "[array([[1.82e+187, 8.22e+186, 1.48e+187, 5.11e+186],\n",
      "       [4.47e+185, 2.01e+185, 3.62e+185, 1.25e+185],\n",
      "       [2.66e+186, 1.20e+186, 2.15e+186, 7.45e+185],\n",
      "       [1.70e+187, 7.66e+186, 1.38e+187, 4.76e+186],\n",
      "       [1.57e+186, 7.07e+185, 1.27e+186, 4.39e+185],\n",
      "       [2.05e+187, 9.26e+186, 1.66e+187, 5.76e+186]]), array([[5.15e+159, 7.97e+158, 2.13e+159, 4.49e+159, 1.81e+159, 5.13e+159],\n",
      "       [6.14e+160, 9.49e+159, 2.53e+160, 5.34e+160, 2.16e+160, 6.11e+160],\n",
      "       [4.14e+159, 6.39e+158, 1.71e+159, 3.60e+159, 1.45e+159, 4.12e+159],\n",
      "       [4.37e+159, 6.76e+158, 1.80e+159, 3.81e+159, 1.54e+159, 4.36e+159],\n",
      "       [2.76e+160, 4.27e+159, 1.14e+160, 2.41e+160, 9.71e+159, 2.75e+160],\n",
      "       [3.34e+160, 5.17e+159, 1.38e+160, 2.91e+160, 1.17e+160, 3.33e+160]]), array([[4.54e+114, 1.52e+115, 4.54e+114, 4.17e+114, 9.86e+114, 1.18e+115],\n",
      "       [3.54e+115, 1.19e+116, 3.54e+115, 3.26e+115, 7.70e+115, 9.20e+115],\n",
      "       [1.53e+115, 5.13e+115, 1.53e+115, 1.41e+115, 3.33e+115, 3.97e+115]])]\n",
      "-------------------------min----------------------------\n",
      "-inf\n",
      "-------------------------max----------------------------\n",
      "-inf\n"
     ]
    },
    {
     "name": "stderr",
     "output_type": "stream",
     "text": [
      "C:\\Users\\hp\\AppData\\Local\\Temp\\ipykernel_21916\\3213012180.py:8: RuntimeWarning: overflow encountered in multiply\n",
      "  d_l_2 =   (w[1].T).dot(d_l_1.T).T * (a[0]*(1-a[0]))\n"
     ]
    }
   ],
   "source": [
    "C = fit(x,y,w,b,seg ,3)"
   ]
  },
  {
   "cell_type": "code",
   "execution_count": null,
   "id": "6874c390-5ab3-4984-aa12-f5c3d577cef4",
   "metadata": {},
   "outputs": [],
   "source": [
    "def predict():\n",
    "    pass"
   ]
  },
  {
   "cell_type": "markdown",
   "id": "07b3b33f-73e7-42be-8e17-913b499cec5c",
   "metadata": {},
   "source": [
    "### II- Utilisation de MLPClassifier\n",
    "8- Utiliser **sklearn.neural_network.MLPClassifier** pour créer, entrainer et tester le reseau ci-dessus\n",
    "- MLPClassifier : multi-layer perceptron "
   ]
  },
  {
   "cell_type": "code",
   "execution_count": 223,
   "id": "df4e652e-6649-41a8-b3e4-4222bb9906fb",
   "metadata": {},
   "outputs": [
    {
     "name": "stdout",
     "output_type": "stream",
     "text": [
      "[[5.84e-07 3.34e-03 9.97e-01]]\n"
     ]
    },
    {
     "data": {
      "text/plain": [
       "1.0"
      ]
     },
     "execution_count": 223,
     "metadata": {},
     "output_type": "execute_result"
    }
   ],
   "source": [
    "from sklearn.neural_network import MLPClassifier\n",
    "from sklearn.datasets import make_classification\n",
    "from sklearn.model_selection import train_test_split\n",
    "\n",
    "data = load_iris()\n",
    "x = data[\"data\"]\n",
    "y = data[\"target\"]\n",
    "\n",
    "X_train, X_test, y_train, y_test = train_test_split(x, y, stratify=y, random_state=1)\n",
    "\n",
    "clf = MLPClassifier(random_state=1, max_iter=1000)\n",
    "clf.fit(X_train, y_train)\n",
    "\n",
    "res = clf.predict_proba(X_test[:1])\n",
    "print(res)\n",
    "\n",
    "y_pred = clf.predict(X_test[: , :] )\n",
    "clf.score(X_test, y_test)"
   ]
  },
  {
   "cell_type": "markdown",
   "id": "0fc0d27a-ded4-469e-b54b-7d94b79c2924",
   "metadata": {},
   "source": [
    "9- Calculer la matrice de confusion du resultat obtenue"
   ]
  },
  {
   "cell_type": "code",
   "execution_count": 232,
   "id": "043eeeb9-7568-4e1b-b102-9f1d3af9123f",
   "metadata": {},
   "outputs": [
    {
     "data": {
      "text/plain": [
       "<Axes: >"
      ]
     },
     "execution_count": 232,
     "metadata": {},
     "output_type": "execute_result"
    },
    {
     "data": {
      "image/png": "[encoded data removed]",
      "text/plain": [
       "<Figure size 640x480 with 2 Axes>"
      ]
     },
     "metadata": {},
     "output_type": "display_data"
    }
   ],
   "source": [
    "from sklearn.metrics import confusion_matrix\n",
    "import seaborn as sns\n",
    "cf = confusion_matrix(y_test, y_pred)\n",
    "sns.heatmap(cf, annot=True, fmt=\"d\", cmap=\"Blues\", xticklabels=clf.classes_, yticklabels=clf.classes_)"
   ]
  },
  {
   "cell_type": "markdown",
   "id": "d861f958-d80e-40f3-b5cf-5749e3d7c62f",
   "metadata": {},
   "source": [
    "### III- Utilisation Keras\n",
    "ref: https://rtavenar.github.io/teaching/neuralnets_td/html/keras1.html"
   ]
  },
  {
   "cell_type": "code",
   "execution_count": 249,
   "id": "e704092a-c6f9-4b30-a097-3c30facba8c4",
   "metadata": {},
   "outputs": [],
   "source": [
    "from keras.models import Sequential\n",
    "from keras.layers import Dense\n",
    "\n",
    "# Create the model\n",
    "model = Sequential()\n",
    "\n",
    "# Add the first layer (input layer)\n",
    "model.add(Dense(units=64, activation='relu', input_shape=(X_train.shape[1],)))\n",
    "\n",
    "# Add hidden layers\n",
    "model.add(Dense(units=32, activation='relu'))\n",
    "\n",
    "# Add the output layer\n",
    "model.add(Dense(units=1, activation='sigmoid'))  # For binary classification"
   ]
  },
  {
   "cell_type": "code",
   "execution_count": 250,
   "id": "44dc093c-adbb-442e-8eaf-ab9b9c444e18",
   "metadata": {},
   "outputs": [
    {
     "name": "stdout",
     "output_type": "stream",
     "text": [
      "Epoch 1/10\n",
      "12/12 - 1s - 119ms/step - accuracy: 0.3304 - loss: -8.0716e-02\n",
      "Epoch 2/10\n",
      "12/12 - 0s - 14ms/step - accuracy: 0.3304 - loss: -8.1122e-01\n",
      "Epoch 3/10\n",
      "12/12 - 0s - 13ms/step - accuracy: 0.3304 - loss: -1.4753e+00\n",
      "Epoch 4/10\n",
      "12/12 - 0s - 13ms/step - accuracy: 0.3304 - loss: -2.8653e+00\n",
      "Epoch 5/10\n",
      "12/12 - 0s - 13ms/step - accuracy: 0.3304 - loss: -5.4825e+00\n",
      "Epoch 6/10\n",
      "12/12 - 0s - 15ms/step - accuracy: 0.3304 - loss: -1.2621e+01\n",
      "Epoch 7/10\n",
      "12/12 - 0s - 16ms/step - accuracy: 0.3304 - loss: -4.8682e+01\n",
      "Epoch 8/10\n",
      "12/12 - 0s - 28ms/step - accuracy: 0.3482 - loss: -8.9796e+01\n",
      "Epoch 9/10\n",
      "12/12 - 0s - 27ms/step - accuracy: 0.3839 - loss: 64600020.0000\n",
      "Epoch 10/10\n",
      "12/12 - 0s - 29ms/step - accuracy: 0.3125 - loss: 0.2910\n"
     ]
    },
    {
     "data": {
      "text/plain": [
       "<keras.src.callbacks.history.History at 0x2a8d8357650>"
      ]
     },
     "execution_count": 250,
     "metadata": {},
     "output_type": "execute_result"
    }
   ],
   "source": [
    "# Compile the model\n",
    "model.compile(optimizer=\"sgd\", loss=\"binary_crossentropy\", metrics=[\"accuracy\"])\n",
    "\n",
    "\n",
    "# Train the model\n",
    "model.fit(X_train, y_train, verbose=2, epochs=10, batch_size=10)"
   ]
  },
  {
   "cell_type": "code",
   "execution_count": 251,
   "id": "049dc511-70a2-4674-b6a4-644d1ecb279e",
   "metadata": {},
   "outputs": [
    {
     "data": {
      "text/html": [
       "<pre style=\"white-space:pre;overflow-x:auto;line-height:normal;font-family:Menlo,'DejaVu Sans Mono',consolas,'Courier New',monospace\"><span style=\"font-weight: bold\">Model: \"sequential_8\"</span>\n",
       "</pre>\n"
      ],
      "text/plain": [
       "\u001b[1mModel: \"sequential_8\"\u001b[0m\n"
      ]
     },
     "metadata": {},
     "output_type": "display_data"
    },
    {
     "data": {
      "text/html": [
       "<pre style=\"white-space:pre;overflow-x:auto;line-height:normal;font-family:Menlo,'DejaVu Sans Mono',consolas,'Courier New',monospace\">┏━━━━━━━━━━━━━━━━━━━━━━━━━━━━━━━━━┳━━━━━━━━━━━━━━━━━━━━━━━━┳━━━━━━━━━━━━━━━┓\n",
       "┃<span style=\"font-weight: bold\"> Layer (type)                    </span>┃<span style=\"font-weight: bold\"> Output Shape           </span>┃<span style=\"font-weight: bold\">       Param # </span>┃\n",
       "┡━━━━━━━━━━━━━━━━━━━━━━━━━━━━━━━━━╇━━━━━━━━━━━━━━━━━━━━━━━━╇━━━━━━━━━━━━━━━┩\n",
       "│ dense_24 (<span style=\"color: #0087ff; text-decoration-color: #0087ff\">Dense</span>)                │ (<span style=\"color: #00d7ff; text-decoration-color: #00d7ff\">None</span>, <span style=\"color: #00af00; text-decoration-color: #00af00\">64</span>)             │           <span style=\"color: #00af00; text-decoration-color: #00af00\">320</span> │\n",
       "├─────────────────────────────────┼────────────────────────┼───────────────┤\n",
       "│ dense_25 (<span style=\"color: #0087ff; text-decoration-color: #0087ff\">Dense</span>)                │ (<span style=\"color: #00d7ff; text-decoration-color: #00d7ff\">None</span>, <span style=\"color: #00af00; text-decoration-color: #00af00\">32</span>)             │         <span style=\"color: #00af00; text-decoration-color: #00af00\">2,080</span> │\n",
       "├─────────────────────────────────┼────────────────────────┼───────────────┤\n",
       "│ dense_26 (<span style=\"color: #0087ff; text-decoration-color: #0087ff\">Dense</span>)                │ (<span style=\"color: #00d7ff; text-decoration-color: #00d7ff\">None</span>, <span style=\"color: #00af00; text-decoration-color: #00af00\">1</span>)              │            <span style=\"color: #00af00; text-decoration-color: #00af00\">33</span> │\n",
       "└─────────────────────────────────┴────────────────────────┴───────────────┘\n",
       "</pre>\n"
      ],
      "text/plain": [
       "┏━━━━━━━━━━━━━━━━━━━━━━━━━━━━━━━━━┳━━━━━━━━━━━━━━━━━━━━━━━━┳━━━━━━━━━━━━━━━┓\n",
       "┃\u001b[1m \u001b[0m\u001b[1mLayer (type)                   \u001b[0m\u001b[1m \u001b[0m┃\u001b[1m \u001b[0m\u001b[1mOutput Shape          \u001b[0m\u001b[1m \u001b[0m┃\u001b[1m \u001b[0m\u001b[1m      Param #\u001b[0m\u001b[1m \u001b[0m┃\n",
       "┡━━━━━━━━━━━━━━━━━━━━━━━━━━━━━━━━━╇━━━━━━━━━━━━━━━━━━━━━━━━╇━━━━━━━━━━━━━━━┩\n",
       "│ dense_24 (\u001b[38;5;33mDense\u001b[0m)                │ (\u001b[38;5;45mNone\u001b[0m, \u001b[38;5;34m64\u001b[0m)             │           \u001b[38;5;34m320\u001b[0m │\n",
       "├─────────────────────────────────┼────────────────────────┼───────────────┤\n",
       "│ dense_25 (\u001b[38;5;33mDense\u001b[0m)                │ (\u001b[38;5;45mNone\u001b[0m, \u001b[38;5;34m32\u001b[0m)             │         \u001b[38;5;34m2,080\u001b[0m │\n",
       "├─────────────────────────────────┼────────────────────────┼───────────────┤\n",
       "│ dense_26 (\u001b[38;5;33mDense\u001b[0m)                │ (\u001b[38;5;45mNone\u001b[0m, \u001b[38;5;34m1\u001b[0m)              │            \u001b[38;5;34m33\u001b[0m │\n",
       "└─────────────────────────────────┴────────────────────────┴───────────────┘\n"
      ]
     },
     "metadata": {},
     "output_type": "display_data"
    },
    {
     "data": {
      "text/html": [
       "<pre style=\"white-space:pre;overflow-x:auto;line-height:normal;font-family:Menlo,'DejaVu Sans Mono',consolas,'Courier New',monospace\"><span style=\"font-weight: bold\"> Total params: </span><span style=\"color: #00af00; text-decoration-color: #00af00\">2,435</span> (9.52 KB)\n",
       "</pre>\n"
      ],
      "text/plain": [
       "\u001b[1m Total params: \u001b[0m\u001b[38;5;34m2,435\u001b[0m (9.52 KB)\n"
      ]
     },
     "metadata": {},
     "output_type": "display_data"
    },
    {
     "data": {
      "text/html": [
       "<pre style=\"white-space:pre;overflow-x:auto;line-height:normal;font-family:Menlo,'DejaVu Sans Mono',consolas,'Courier New',monospace\"><span style=\"font-weight: bold\"> Trainable params: </span><span style=\"color: #00af00; text-decoration-color: #00af00\">2,433</span> (9.50 KB)\n",
       "</pre>\n"
      ],
      "text/plain": [
       "\u001b[1m Trainable params: \u001b[0m\u001b[38;5;34m2,433\u001b[0m (9.50 KB)\n"
      ]
     },
     "metadata": {},
     "output_type": "display_data"
    },
    {
     "data": {
      "text/html": [
       "<pre style=\"white-space:pre;overflow-x:auto;line-height:normal;font-family:Menlo,'DejaVu Sans Mono',consolas,'Courier New',monospace\"><span style=\"font-weight: bold\"> Non-trainable params: </span><span style=\"color: #00af00; text-decoration-color: #00af00\">0</span> (0.00 B)\n",
       "</pre>\n"
      ],
      "text/plain": [
       "\u001b[1m Non-trainable params: \u001b[0m\u001b[38;5;34m0\u001b[0m (0.00 B)\n"
      ]
     },
     "metadata": {},
     "output_type": "display_data"
    },
    {
     "data": {
      "text/html": [
       "<pre style=\"white-space:pre;overflow-x:auto;line-height:normal;font-family:Menlo,'DejaVu Sans Mono',consolas,'Courier New',monospace\"><span style=\"font-weight: bold\"> Optimizer params: </span><span style=\"color: #00af00; text-decoration-color: #00af00\">2</span> (12.00 B)\n",
       "</pre>\n"
      ],
      "text/plain": [
       "\u001b[1m Optimizer params: \u001b[0m\u001b[38;5;34m2\u001b[0m (12.00 B)\n"
      ]
     },
     "metadata": {},
     "output_type": "display_data"
    }
   ],
   "source": [
    "model.summary()"
   ]
  },
  {
   "cell_type": "code",
   "execution_count": 254,
   "id": "31ec2442-0f27-4455-9511-10fea199a491",
   "metadata": {},
   "outputs": [
    {
     "name": "stdout",
     "output_type": "stream",
     "text": [
      "\u001b[1m2/2\u001b[0m \u001b[32m━━━━━━━━━━━━━━━━━━━━\u001b[0m\u001b[37m\u001b[0m \u001b[1m0s\u001b[0m 73ms/step \n",
      "Classification Report:\n",
      "              precision    recall  f1-score   support\n",
      "\n",
      "           0       0.00      0.00      0.00        12\n",
      "           1       0.34      1.00      0.51        13\n",
      "           2       0.00      0.00      0.00        13\n",
      "\n",
      "    accuracy                           0.34        38\n",
      "   macro avg       0.11      0.33      0.17        38\n",
      "weighted avg       0.12      0.34      0.17        38\n",
      "\n",
      "Confusion Matrix:\n",
      "[[ 0 12  0]\n",
      " [ 0 13  0]\n",
      " [ 0 13  0]]\n"
     ]
    },
    {
     "name": "stderr",
     "output_type": "stream",
     "text": [
      "C:\\Users\\hp\\anaconda3\\envs\\stageProject\\Lib\\site-packages\\sklearn\\metrics\\_classification.py:1531: UndefinedMetricWarning: Precision is ill-defined and being set to 0.0 in labels with no predicted samples. Use `zero_division` parameter to control this behavior.\n",
      "  _warn_prf(average, modifier, f\"{metric.capitalize()} is\", len(result))\n",
      "C:\\Users\\hp\\anaconda3\\envs\\stageProject\\Lib\\site-packages\\sklearn\\metrics\\_classification.py:1531: UndefinedMetricWarning: Precision is ill-defined and being set to 0.0 in labels with no predicted samples. Use `zero_division` parameter to control this behavior.\n",
      "  _warn_prf(average, modifier, f\"{metric.capitalize()} is\", len(result))\n",
      "C:\\Users\\hp\\anaconda3\\envs\\stageProject\\Lib\\site-packages\\sklearn\\metrics\\_classification.py:1531: UndefinedMetricWarning: Precision is ill-defined and being set to 0.0 in labels with no predicted samples. Use `zero_division` parameter to control this behavior.\n",
      "  _warn_prf(average, modifier, f\"{metric.capitalize()} is\", len(result))\n"
     ]
    }
   ],
   "source": [
    "from sklearn.metrics import classification_report, confusion_matrix\n",
    "\n",
    "# Make predictions on the test data\n",
    "y_pred = model.predict(X_test)\n",
    "y_pred_classes = (y_pred > 0.5).astype(int)  # Convert probabilities to binary predictions\n",
    "\n",
    "# Compute classification report\n",
    "print(\"Classification Report:\")\n",
    "print(classification_report(y_test, y_pred_classes))\n",
    "\n",
    "# Compute confusion matrix\n",
    "print(\"Confusion Matrix:\")\n",
    "cm = confusion_matrix(y_test, y_pred_classes)\n",
    "print(confusion_matrix(y_test, y_pred_classes))"
   ]
  },
  {
   "cell_type": "code",
   "execution_count": 255,
   "id": "1b2c81b7-5bd3-426b-b098-c6be5cab8050",
   "metadata": {},
   "outputs": [
    {
     "data": {
      "image/png": "[encoded data removed]",
      "text/plain": [
       "<Figure size 600x600 with 1 Axes>"
      ]
     },
     "metadata": {},
     "output_type": "display_data"
    }
   ],
   "source": [
    "import seaborn as sns\n",
    "plt.figure(figsize=(6, 6))\n",
    "sns.heatmap(cm, annot=True, fmt=\"d\", cmap=\"Blues\", cbar=False,\n",
    "            xticklabels=[\"Class 0\", \"Class 1\"],\n",
    "            yticklabels=[\"Class 0\", \"Class 1\"])\n",
    "plt.xlabel(\"Predicted\")\n",
    "plt.ylabel(\"True\")\n",
    "plt.title(\"Confusion Matrix\")\n",
    "plt.show()"
   ]
  },
  {
   "cell_type": "markdown",
   "id": "2e5ea007-b302-40ab-9e1e-b2af683d53c5",
   "metadata": {},
   "source": [
    "### IV- Utilisation pytorche\n",
    "ref: https://pageperso.lis-lab.fr/benoit.favre/pstaln/01_pytorch-mlp.html"
   ]
  },
  {
   "cell_type": "code",
   "execution_count": null,
   "id": "f261a629-7044-435d-b84b-a037fc316e6f",
   "metadata": {},
   "outputs": [],
   "source": [
    "!conda install pytorch torchvision torchaudio pytorch-cuda=11.8 -c pytorch -c nvidia"
   ]
  },
  {
   "cell_type": "code",
   "execution_count": 259,
   "id": "244b4759-c675-4986-ad9d-0e36e791a617",
   "metadata": {},
   "outputs": [
    {
     "ename": "ModuleNotFoundError",
     "evalue": "No module named 'torch'",
     "output_type": "error",
     "traceback": [
      "\u001b[1;31m---------------------------------------------------------------------------\u001b[0m",
      "\u001b[1;31mModuleNotFoundError\u001b[0m                       Traceback (most recent call last)",
      "Cell \u001b[1;32mIn[259], line 5\u001b[0m\n\u001b[0;32m      2\u001b[0m \u001b[38;5;28;01mfrom\u001b[39;00m \u001b[38;5;21;01msklearn\u001b[39;00m\u001b[38;5;21;01m.\u001b[39;00m\u001b[38;5;21;01mmodel_selection\u001b[39;00m \u001b[38;5;28;01mimport\u001b[39;00m train_test_split\n\u001b[0;32m      3\u001b[0m \u001b[38;5;28;01mfrom\u001b[39;00m \u001b[38;5;21;01msklearn\u001b[39;00m\u001b[38;5;21;01m.\u001b[39;00m\u001b[38;5;21;01mmetrics\u001b[39;00m \u001b[38;5;28;01mimport\u001b[39;00m accuracy_score, precision_score, recall_score\n\u001b[1;32m----> 5\u001b[0m \u001b[38;5;28;01mimport\u001b[39;00m \u001b[38;5;21;01mtorch\u001b[39;00m\n\u001b[0;32m      6\u001b[0m \u001b[38;5;28;01mimport\u001b[39;00m \u001b[38;5;21;01mtorch\u001b[39;00m\u001b[38;5;21;01m.\u001b[39;00m\u001b[38;5;21;01mnn\u001b[39;00m \u001b[38;5;28;01mas\u001b[39;00m \u001b[38;5;21;01mnn\u001b[39;00m\n\u001b[0;32m      7\u001b[0m \u001b[38;5;28;01mimport\u001b[39;00m \u001b[38;5;21;01mtorch\u001b[39;00m\u001b[38;5;21;01m.\u001b[39;00m\u001b[38;5;21;01mnn\u001b[39;00m\u001b[38;5;21;01m.\u001b[39;00m\u001b[38;5;21;01mfunctional\u001b[39;00m \u001b[38;5;28;01mas\u001b[39;00m \u001b[38;5;21;01mF\u001b[39;00m\n",
      "\u001b[1;31mModuleNotFoundError\u001b[0m: No module named 'torch'"
     ]
    }
   ],
   "source": [
    "import pandas as pd\n",
    "from sklearn.model_selection import train_test_split\n",
    "from sklearn.metrics import accuracy_score, precision_score, recall_score\n",
    "\n",
    "import torch\n",
    "import torch.nn as nn\n",
    "import torch.nn.functional as F\n",
    "from torch.autograd import Variable\n",
    "\n",
    "\n",
    "class Net(nn.Module):\n",
    "    # define nn\n",
    "    def __init__(self):\n",
    "        super(Net, self).__init__()\n",
    "        self.fc1 = nn.Linear(4, 100)\n",
    "        self.fc2 = nn.Linear(100, 100)\n",
    "        self.fc3 = nn.Linear(100, 3)\n",
    "        self.softmax = nn.Softmax(dim=1)\n",
    "\n",
    "    def forward(self, X):\n",
    "        X = F.relu(self.fc1(X))\n",
    "        X = self.fc2(X)\n",
    "        X = self.fc3(X)\n",
    "        X = self.softmax(X)\n",
    "\n",
    "        return X\n",
    "    \n",
    "# load IRIS dataset\n",
    "dataset = pd.read_csv('dataset/iris.csv')\n",
    "\n",
    "# transform species to numerics\n",
    "dataset.loc[dataset.species=='Iris-setosa', 'species'] = 0\n",
    "dataset.loc[dataset.species=='Iris-versicolor', 'species'] = 1\n",
    "dataset.loc[dataset.species=='Iris-virginica', 'species'] = 2\n",
    "\n",
    "\n",
    "train_X, test_X, train_y, test_y = train_test_split(dataset[dataset.columns[0:4]].values,\n",
    "                                                    dataset.species.values, test_size=0.8)\n",
    "\n",
    "# wrap up with Variable in pytorch\n",
    "train_X = Variable(torch.Tensor(train_X).float())\n",
    "test_X = Variable(torch.Tensor(test_X).float())\n",
    "train_y = Variable(torch.Tensor(train_y).long())\n",
    "test_y = Variable(torch.Tensor(test_y).long())\n",
    "\n",
    "\n",
    "net = Net()\n",
    "\n",
    "criterion = nn.CrossEntropyLoss()# cross entropy loss\n",
    "\n",
    "optimizer = torch.optim.SGD(net.parameters(), lr=0.01)\n",
    "\n",
    "for epoch in range(1000):\n",
    "    optimizer.zero_grad()\n",
    "    out = net(train_X)\n",
    "    loss = criterion(out, train_y)\n",
    "    loss.backward()\n",
    "    optimizer.step()\n",
    "    \n",
    "    if epoch % 100 == 0:\n",
    "        print ('number of epoch', epoch, 'loss', loss.data[0])\n",
    "predict_out = net(test_X)\n",
    "_, predict_y = torch.max(predict_out, 1)\n",
    "\n",
    "print ('prediction accuracy', accuracy_score(test_y.data, predict_y.data))\n",
    "\n",
    "print ('macro precision', precision_score(test_y.data, predict_y.data, average='macro'))\n",
    "print ('micro precision', precision_score(test_y.data, predict_y.data, average='micro'))\n",
    "print ('macro recall', recall_score(test_y.data, predict_y.data, average='macro'))\n",
    "print ('micro recall', recall_score(test_y.data, predict_y.data, average='micro'))"
   ]
  },
  {
   "cell_type": "code",
   "execution_count": null,
   "id": "30c7a2ab-329c-41fc-a6de-afb72c7326da",
   "metadata": {},
   "outputs": [],
   "source": []
  }
 ],
 "metadata": {
  "kernelspec": {
   "display_name": "Python 3 (ipykernel)",
   "language": "python",
   "name": "python3"
  },
  "language_info": {
   "codemirror_mode": {
    "name": "ipython",
    "version": 3
   },
   "file_extension": ".py",
   "mimetype": "text/x-python",
   "name": "python",
   "nbconvert_exporter": "python",
   "pygments_lexer": "ipython3",
   "version": "3.11.9"
  }
 },
 "nbformat": 4,
 "nbformat_minor": 5
}
