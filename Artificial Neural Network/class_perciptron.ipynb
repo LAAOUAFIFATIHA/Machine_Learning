{
 "cells": [
  {
   "cell_type": "markdown",
   "id": "29c07816",
   "metadata": {},
   "source": [
    "# perceptron"
   ]
  },
  {
   "cell_type": "code",
   "execution_count": 4,
   "id": "7534a359",
   "metadata": {},
   "outputs": [],
   "source": [
    "import numpy as np"
   ]
  },
  {
   "cell_type": "code",
   "execution_count": 5,
   "id": "b2e7df42",
   "metadata": {},
   "outputs": [],
   "source": [
    "def step(s):\n",
    "    if s>0: #s[s>0]\n",
    "        return 1\n",
    "    else:\n",
    "        return 0\n",
    "def logistic(s):\n",
    "    return 1/(1+np.exp(-s))\n",
    "def relu(s):\n",
    "    if s>0:\n",
    "        return s\n",
    "    else:\n",
    "        return 0"
   ]
  },
  {
   "cell_type": "code",
   "execution_count": 6,
   "id": "cdb163ea",
   "metadata": {},
   "outputs": [],
   "source": [
    "class Neuron:\n",
    "    def __init__(self, nbr_entre , acti_fct ):\n",
    "        self.nbr_entre = nbr_entre\n",
    "        self.acti_fct = acti_fct\n",
    "        self.b = np.random.rand()\n",
    "        self.w = np.random.rand(self.nbr_entre)\n",
    "\n",
    "    def forword(self,x):\n",
    "        x = np.array(x)\n",
    "        s = x.dot(self.w) + self.b\n",
    "#         print(\"s:\",self.w)\n",
    "        return self.acti_fct(s)\n",
    "\n",
    "    def setWeights(self, w):\n",
    "        self.w = np.array( w)\n",
    "        \n",
    "    def set_bais(self, b):\n",
    "        self.b = b\n",
    "\n",
    "    \n",
    "            \n",
    "# l'implementation de descente de gradeint \n",
    "#     def fit(_self,x,y ,grade):\n",
    "#         _self.w = grade(S , 100, 0.0001)        "
   ]
  },
  {
   "cell_type": "code",
   "execution_count": 7,
   "id": "bd86890a",
   "metadata": {},
   "outputs": [
    {
     "data": {
      "text/plain": [
       "14"
      ]
     },
     "execution_count": 7,
     "metadata": {},
     "output_type": "execute_result"
    }
   ],
   "source": [
    "nn0 = Neuron(2,lambda s:s)\n",
    "nn0.setWeights([2,5])\n",
    "nn0.set_bais(2)\n",
    "X = np.array([1,2])\n",
    "nn0.forword(X)"
   ]
  },
  {
   "cell_type": "code",
   "execution_count": 8,
   "id": "62c61a3b",
   "metadata": {},
   "outputs": [
    {
     "name": "stdout",
     "output_type": "stream",
     "text": [
      "[-0.8561128]\n",
      "0\n",
      "[0.4742374]\n",
      "0\n"
     ]
    }
   ],
   "source": [
    "x = np.array([[-1,-2]])\n",
    "n0 = Neuron(2 , lambda s:s)\n",
    "n1 = Neuron(2 , step)\n",
    "n2 = Neuron(2 , logistic)\n",
    "n3 = Neuron(2 , relu)\n",
    "print(n0.forword(x))\n",
    "print(n1.forword(x))\n",
    "print(n2.forword(x))\n",
    "print(n3.forword(x))    "
   ]
  },
  {
   "cell_type": "code",
   "execution_count": null,
   "id": "21715666",
   "metadata": {},
   "outputs": [],
   "source": []
  },
  {
   "cell_type": "markdown",
   "id": "87d2230f",
   "metadata": {},
   "source": [
    "un perceptron est une cas particulier de noeron la fonction d'activation est une step"
   ]
  },
  {
   "cell_type": "code",
   "execution_count": null,
   "id": "4e3fa85d",
   "metadata": {},
   "outputs": [],
   "source": []
  },
  {
   "cell_type": "code",
   "execution_count": 9,
   "id": "8cfd1986",
   "metadata": {},
   "outputs": [],
   "source": [
    "class layer:\n",
    "    def __init__(self, nb_input , nb_output , activation):\n",
    "        self.nb_input = nb_input\n",
    "        self.nb_output = nb_output\n",
    "        self.activation = activation \n",
    "        self.Neurons = [Neuron(self.nb_input, self.activation) for i in range(self.nb_output)] \n",
    "        \n",
    "    def forword(self,x):\n",
    "        return  np.array([ c.forword(x)  for c in self.Neurons ])\n",
    "#           return  np.array([ c.forword(x)  for c in self.Neurons ]).T\n",
    "    def setWeights(self, w):\n",
    "        for i ,neuron in enumerate(self.Neurons):\n",
    "            neuron.setWeights(w[i])\n",
    "            \n",
    "    def set_bais(self, B):\n",
    "        for i ,neuron in enumerate(self.Neurons):\n",
    "            neuron.set_bais(B[i])"
   ]
  },
  {
   "cell_type": "code",
   "execution_count": null,
   "id": "a598bb72",
   "metadata": {},
   "outputs": [],
   "source": []
  },
  {
   "cell_type": "code",
   "execution_count": 10,
   "id": "147cfac1",
   "metadata": {},
   "outputs": [
    {
     "data": {
      "text/plain": [
       "array([[2],\n",
       "       [3],\n",
       "       [5]])"
      ]
     },
     "execution_count": 10,
     "metadata": {},
     "output_type": "execute_result"
    }
   ],
   "source": [
    "layer1 = layer(2,3,relu)\n",
    "x = np.array([[1,2]])\n",
    "layer1.setWeights( [[1,1],[0,1],[2,1]])\n",
    "layer1.set_bais([-1,1,1])\n",
    "\n",
    "layer1.forword(x)"
   ]
  },
  {
   "cell_type": "code",
   "execution_count": 11,
   "id": "14883793",
   "metadata": {},
   "outputs": [],
   "source": [
    "class Net:\n",
    "    def __init__(self , input_size  , hiden , output_size , activation):\n",
    "        self.input_size = input_size\n",
    "        self.hiden = hiden # [ 4 ,2]\n",
    "        self.output_size = output_size\n",
    "        self.activation = activation\n",
    "        self.layers = []\n",
    "        inputs = self.input_size\n",
    "        \n",
    "        # remplir the layers\n",
    "        for n in self.hiden:\n",
    "            self.layers.append( layer(inputs ,n,activation))\n",
    "            inputs = n\n",
    "        self.layers.append( layer(inputs , output_size ,activation))\n",
    "    def show_structure(self):\n",
    "        return {\n",
    "            \"inputs\": self.input_size,\n",
    "            \"headens\": self.hiden,\n",
    "            \"Output\" :self.output_size,\n",
    "            \"activation\":self.activation\n",
    "        }\n",
    "        \n",
    "        \n",
    "    def forword(self , x):\n",
    "            for c in self.layers:\n",
    "                x =  np.array(c.forword(x))\n",
    "            return x\n",
    "        \n",
    "\n",
    "    def setWeights(self,w):\n",
    "        for i , layer in enumerate(self.layers):\n",
    "            layer.setWeights(w[i])\n",
    "    \n",
    "    def set_bais(self ,B):\n",
    "        for i ,layer in enumerate(self.layers):\n",
    "            layer.set_bais(B[i])\n",
    "        "
   ]
  },
  {
   "cell_type": "code",
   "execution_count": 12,
   "id": "7c7abd66",
   "metadata": {},
   "outputs": [
    {
     "data": {
      "text/plain": [
       "array([12, 13])"
      ]
     },
     "execution_count": 12,
     "metadata": {},
     "output_type": "execute_result"
    }
   ],
   "source": [
    "Nett = Net(2,[3],2,relu)\n",
    "x1 = np.array([1,2])\n",
    "\n",
    "\n",
    "Nett.setWeights( [ [[1,1],[0,1],[2,1]] , [ [0,1,2], [1,2,1]]])\n",
    "Nett.set_bais([[-1,1,1],[-1,0]])\n",
    "Nett.forword(x1)"
   ]
  },
  {
   "cell_type": "code",
   "execution_count": 13,
   "id": "7a887497",
   "metadata": {},
   "outputs": [
    {
     "data": {
      "text/plain": [
       "{'inputs': 2,\n",
       " 'headens': [3],\n",
       " 'Output': 2,\n",
       " 'activation': <function __main__.relu(s)>}"
      ]
     },
     "execution_count": 13,
     "metadata": {},
     "output_type": "execute_result"
    }
   ],
   "source": [
    "Nett.show_structure()"
   ]
  },
  {
   "cell_type": "code",
   "execution_count": null,
   "id": "0405abc3",
   "metadata": {},
   "outputs": [],
   "source": []
  },
  {
   "cell_type": "code",
   "execution_count": null,
   "id": "e0b50b1e",
   "metadata": {},
   "outputs": [],
   "source": []
  },
  {
   "cell_type": "code",
   "execution_count": null,
   "id": "ca945348",
   "metadata": {},
   "outputs": [],
   "source": []
  },
  {
   "cell_type": "code",
   "execution_count": null,
   "id": "ac5dbd2a",
   "metadata": {},
   "outputs": [],
   "source": []
  }
 ],
 "metadata": {
  "kernelspec": {
   "display_name": "Python 3 (ipykernel)",
   "language": "python",
   "name": "python3"
  },
  "language_info": {
   "codemirror_mode": {
    "name": "ipython",
    "version": 3
   },
   "file_extension": ".py",
   "mimetype": "text/x-python",
   "name": "python",
   "nbconvert_exporter": "python",
   "pygments_lexer": "ipython3",
   "version": "3.11.8"
  }
 },
 "nbformat": 4,
 "nbformat_minor": 5
}
